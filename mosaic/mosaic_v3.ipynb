{
 "cells": [
  {
   "cell_type": "code",
   "execution_count": 1,
   "metadata": {
    "collapsed": false
   },
   "outputs": [
    {
     "name": "stderr",
     "output_type": "stream",
     "text": [
      "Using Theano backend.\n"
     ]
    },
    {
     "name": "stdout",
     "output_type": "stream",
     "text": [
      "Mosaic: detect porngraghic\n",
      "=====================================\n"
     ]
    }
   ],
   "source": [
    "from keras.models import model_from_json\n",
    "from keras.preprocessing.image import array_to_img, img_to_array, load_img\n",
    "import h5py\n",
    "import os\n",
    "from PIL import Image\n",
    "from scipy.misc import imread, imresize, imsave\n",
    "import numpy as np\n",
    "\n",
    "print ('Mosaic: detect porngraghic')\n",
    "print ('=====================================')"
   ]
  },
  {
   "cell_type": "code",
   "execution_count": 2,
   "metadata": {
    "collapsed": false
   },
   "outputs": [],
   "source": [
    "from keras.applications import vgg16\n",
    "from keras import backend as K\n",
    "from keras.models import Model,Sequential\n",
    "from keras.layers import Flatten, Dense, Input\n",
    "from keras.layers import Convolution2D, MaxPooling2D\n",
    "from keras.utils.layer_utils import convert_all_kernels_in_model\n",
    "from keras.utils.data_utils import get_file\n",
    "from keras.applications.imagenet_utils import decode_predictions, preprocess_input"
   ]
  },
  {
   "cell_type": "code",
   "execution_count": 3,
   "metadata": {
    "collapsed": false
   },
   "outputs": [
    {
     "name": "stdout",
     "output_type": "stream",
     "text": [
      "Downloading data from https://github.com/fchollet/deep-learning-models/releases/download/v0.1/vgg16_weights_th_dim_ordering_th_kernels_notop.h5\n",
      "   90112/58889096 [..............................] - ETA: 8344s"
     ]
    },
    {
     "ename": "KeyboardInterrupt",
     "evalue": "",
     "output_type": "error",
     "traceback": [
      "\u001b[0;31m---------------------------------------------------------------------------\u001b[0m",
      "\u001b[0;31mKeyboardInterrupt\u001b[0m                         Traceback (most recent call last)",
      "\u001b[0;32m<ipython-input-3-2577275e95b5>\u001b[0m in \u001b[0;36m<module>\u001b[0;34m()\u001b[0m\n\u001b[1;32m     10\u001b[0m     \u001b[0mimg_size\u001b[0m \u001b[0;34m=\u001b[0m \u001b[0;34m(\u001b[0m\u001b[0mimg_width\u001b[0m\u001b[0;34m,\u001b[0m \u001b[0mimg_height\u001b[0m\u001b[0;34m,\u001b[0m \u001b[0;36m3\u001b[0m\u001b[0;34m)\u001b[0m\u001b[0;34m\u001b[0m\u001b[0m\n\u001b[1;32m     11\u001b[0m \u001b[0mmosaic\u001b[0m \u001b[0;34m=\u001b[0m \u001b[0mInput\u001b[0m\u001b[0;34m(\u001b[0m\u001b[0mbatch_shape\u001b[0m\u001b[0;34m=\u001b[0m\u001b[0;34m(\u001b[0m\u001b[0mNone\u001b[0m\u001b[0;34m,\u001b[0m\u001b[0;34m)\u001b[0m \u001b[0;34m+\u001b[0m \u001b[0mimg_size\u001b[0m\u001b[0;34m)\u001b[0m\u001b[0;34m\u001b[0m\u001b[0m\n\u001b[0;32m---> 12\u001b[0;31m \u001b[0mmodel\u001b[0m \u001b[0;34m=\u001b[0m \u001b[0mvgg16\u001b[0m\u001b[0;34m.\u001b[0m\u001b[0mVGG16\u001b[0m\u001b[0;34m(\u001b[0m\u001b[0minput_tensor\u001b[0m\u001b[0;34m=\u001b[0m\u001b[0mmosaic\u001b[0m\u001b[0;34m,\u001b[0m\u001b[0mweights\u001b[0m\u001b[0;34m=\u001b[0m\u001b[0;34m'imagenet'\u001b[0m\u001b[0;34m,\u001b[0m \u001b[0minclude_top\u001b[0m\u001b[0;34m=\u001b[0m\u001b[0mFalse\u001b[0m\u001b[0;34m)\u001b[0m\u001b[0;34m\u001b[0m\u001b[0m\n\u001b[0m\u001b[1;32m     13\u001b[0m \u001b[0mmodel\u001b[0m\u001b[0;34m.\u001b[0m\u001b[0mtrainable\u001b[0m\u001b[0;34m=\u001b[0m\u001b[0mFalse\u001b[0m\u001b[0;34m\u001b[0m\u001b[0m\n\u001b[1;32m     14\u001b[0m \u001b[0;34m\u001b[0m\u001b[0m\n",
      "\u001b[0;32m/Users/holazhai/anaconda/lib/python2.7/site-packages/keras/applications/vgg16.pyc\u001b[0m in \u001b[0;36mVGG16\u001b[0;34m(include_top, weights, input_tensor)\u001b[0m\n\u001b[1;32m    123\u001b[0m                 weights_path = get_file('vgg16_weights_th_dim_ordering_th_kernels_notop.h5',\n\u001b[1;32m    124\u001b[0m                                         \u001b[0mTH_WEIGHTS_PATH_NO_TOP\u001b[0m\u001b[0;34m,\u001b[0m\u001b[0;34m\u001b[0m\u001b[0m\n\u001b[0;32m--> 125\u001b[0;31m                                         cache_subdir='models')\n\u001b[0m\u001b[1;32m    126\u001b[0m             \u001b[0mmodel\u001b[0m\u001b[0;34m.\u001b[0m\u001b[0mload_weights\u001b[0m\u001b[0;34m(\u001b[0m\u001b[0mweights_path\u001b[0m\u001b[0;34m)\u001b[0m\u001b[0;34m\u001b[0m\u001b[0m\n\u001b[1;32m    127\u001b[0m             \u001b[0;32mif\u001b[0m \u001b[0mK\u001b[0m\u001b[0;34m.\u001b[0m\u001b[0mbackend\u001b[0m\u001b[0;34m(\u001b[0m\u001b[0;34m)\u001b[0m \u001b[0;34m==\u001b[0m \u001b[0;34m'tensorflow'\u001b[0m\u001b[0;34m:\u001b[0m\u001b[0;34m\u001b[0m\u001b[0m\n",
      "\u001b[0;32m/Users/holazhai/anaconda/lib/python2.7/site-packages/keras/utils/data_utils.pyc\u001b[0m in \u001b[0;36mget_file\u001b[0;34m(fname, origin, untar, md5_hash, cache_subdir)\u001b[0m\n\u001b[1;32m     94\u001b[0m         \u001b[0;32mtry\u001b[0m\u001b[0;34m:\u001b[0m\u001b[0;34m\u001b[0m\u001b[0m\n\u001b[1;32m     95\u001b[0m             \u001b[0;32mtry\u001b[0m\u001b[0;34m:\u001b[0m\u001b[0;34m\u001b[0m\u001b[0m\n\u001b[0;32m---> 96\u001b[0;31m                 \u001b[0murlretrieve\u001b[0m\u001b[0;34m(\u001b[0m\u001b[0morigin\u001b[0m\u001b[0;34m,\u001b[0m \u001b[0mfpath\u001b[0m\u001b[0;34m,\u001b[0m \u001b[0mdl_progress\u001b[0m\u001b[0;34m)\u001b[0m\u001b[0;34m\u001b[0m\u001b[0m\n\u001b[0m\u001b[1;32m     97\u001b[0m             \u001b[0;32mexcept\u001b[0m \u001b[0mURLError\u001b[0m \u001b[0;32mas\u001b[0m \u001b[0me\u001b[0m\u001b[0;34m:\u001b[0m\u001b[0;34m\u001b[0m\u001b[0m\n\u001b[1;32m     98\u001b[0m                 \u001b[0;32mraise\u001b[0m \u001b[0mException\u001b[0m\u001b[0;34m(\u001b[0m\u001b[0merror_msg\u001b[0m\u001b[0;34m.\u001b[0m\u001b[0mformat\u001b[0m\u001b[0;34m(\u001b[0m\u001b[0morigin\u001b[0m\u001b[0;34m,\u001b[0m \u001b[0me\u001b[0m\u001b[0;34m.\u001b[0m\u001b[0merrno\u001b[0m\u001b[0;34m,\u001b[0m \u001b[0me\u001b[0m\u001b[0;34m.\u001b[0m\u001b[0mreason\u001b[0m\u001b[0;34m)\u001b[0m\u001b[0;34m)\u001b[0m\u001b[0;34m\u001b[0m\u001b[0m\n",
      "\u001b[0;32m/Users/holazhai/anaconda/lib/python2.7/site-packages/keras/utils/data_utils.pyc\u001b[0m in \u001b[0;36murlretrieve\u001b[0;34m(url, filename, reporthook, data)\u001b[0m\n\u001b[1;32m     33\u001b[0m         \u001b[0mresponse\u001b[0m \u001b[0;34m=\u001b[0m \u001b[0murlopen\u001b[0m\u001b[0;34m(\u001b[0m\u001b[0murl\u001b[0m\u001b[0;34m,\u001b[0m \u001b[0mdata\u001b[0m\u001b[0;34m)\u001b[0m\u001b[0;34m\u001b[0m\u001b[0m\n\u001b[1;32m     34\u001b[0m         \u001b[0;32mwith\u001b[0m \u001b[0mopen\u001b[0m\u001b[0;34m(\u001b[0m\u001b[0mfilename\u001b[0m\u001b[0;34m,\u001b[0m \u001b[0;34m'wb'\u001b[0m\u001b[0;34m)\u001b[0m \u001b[0;32mas\u001b[0m \u001b[0mfd\u001b[0m\u001b[0;34m:\u001b[0m\u001b[0;34m\u001b[0m\u001b[0m\n\u001b[0;32m---> 35\u001b[0;31m             \u001b[0;32mfor\u001b[0m \u001b[0mchunk\u001b[0m \u001b[0;32min\u001b[0m \u001b[0mchunk_read\u001b[0m\u001b[0;34m(\u001b[0m\u001b[0mresponse\u001b[0m\u001b[0;34m,\u001b[0m \u001b[0mreporthook\u001b[0m\u001b[0;34m=\u001b[0m\u001b[0mreporthook\u001b[0m\u001b[0;34m)\u001b[0m\u001b[0;34m:\u001b[0m\u001b[0;34m\u001b[0m\u001b[0m\n\u001b[0m\u001b[1;32m     36\u001b[0m                 \u001b[0mfd\u001b[0m\u001b[0;34m.\u001b[0m\u001b[0mwrite\u001b[0m\u001b[0;34m(\u001b[0m\u001b[0mchunk\u001b[0m\u001b[0;34m)\u001b[0m\u001b[0;34m\u001b[0m\u001b[0m\n\u001b[1;32m     37\u001b[0m \u001b[0;32melse\u001b[0m\u001b[0;34m:\u001b[0m\u001b[0;34m\u001b[0m\u001b[0m\n",
      "\u001b[0;32m/Users/holazhai/anaconda/lib/python2.7/site-packages/keras/utils/data_utils.pyc\u001b[0m in \u001b[0;36mchunk_read\u001b[0;34m(response, chunk_size, reporthook)\u001b[0m\n\u001b[1;32m     22\u001b[0m             \u001b[0mcount\u001b[0m \u001b[0;34m=\u001b[0m \u001b[0;36m0\u001b[0m\u001b[0;34m\u001b[0m\u001b[0m\n\u001b[1;32m     23\u001b[0m             \u001b[0;32mwhile\u001b[0m \u001b[0;36m1\u001b[0m\u001b[0;34m:\u001b[0m\u001b[0;34m\u001b[0m\u001b[0m\n\u001b[0;32m---> 24\u001b[0;31m                 \u001b[0mchunk\u001b[0m \u001b[0;34m=\u001b[0m \u001b[0mresponse\u001b[0m\u001b[0;34m.\u001b[0m\u001b[0mread\u001b[0m\u001b[0;34m(\u001b[0m\u001b[0mchunk_size\u001b[0m\u001b[0;34m)\u001b[0m\u001b[0;34m\u001b[0m\u001b[0m\n\u001b[0m\u001b[1;32m     25\u001b[0m                 \u001b[0mcount\u001b[0m \u001b[0;34m+=\u001b[0m \u001b[0;36m1\u001b[0m\u001b[0;34m\u001b[0m\u001b[0m\n\u001b[1;32m     26\u001b[0m                 \u001b[0;32mif\u001b[0m \u001b[0;32mnot\u001b[0m \u001b[0mchunk\u001b[0m\u001b[0;34m:\u001b[0m\u001b[0;34m\u001b[0m\u001b[0m\n",
      "\u001b[0;32m/Users/holazhai/anaconda/lib/python2.7/socket.pyc\u001b[0m in \u001b[0;36mread\u001b[0;34m(self, size)\u001b[0m\n\u001b[1;32m    382\u001b[0m                 \u001b[0;31m# fragmentation issues on many platforms.\u001b[0m\u001b[0;34m\u001b[0m\u001b[0;34m\u001b[0m\u001b[0m\n\u001b[1;32m    383\u001b[0m                 \u001b[0;32mtry\u001b[0m\u001b[0;34m:\u001b[0m\u001b[0;34m\u001b[0m\u001b[0m\n\u001b[0;32m--> 384\u001b[0;31m                     \u001b[0mdata\u001b[0m \u001b[0;34m=\u001b[0m \u001b[0mself\u001b[0m\u001b[0;34m.\u001b[0m\u001b[0m_sock\u001b[0m\u001b[0;34m.\u001b[0m\u001b[0mrecv\u001b[0m\u001b[0;34m(\u001b[0m\u001b[0mleft\u001b[0m\u001b[0;34m)\u001b[0m\u001b[0;34m\u001b[0m\u001b[0m\n\u001b[0m\u001b[1;32m    385\u001b[0m                 \u001b[0;32mexcept\u001b[0m \u001b[0merror\u001b[0m\u001b[0;34m,\u001b[0m \u001b[0me\u001b[0m\u001b[0;34m:\u001b[0m\u001b[0;34m\u001b[0m\u001b[0m\n\u001b[1;32m    386\u001b[0m                     \u001b[0;32mif\u001b[0m \u001b[0me\u001b[0m\u001b[0;34m.\u001b[0m\u001b[0margs\u001b[0m\u001b[0;34m[\u001b[0m\u001b[0;36m0\u001b[0m\u001b[0;34m]\u001b[0m \u001b[0;34m==\u001b[0m \u001b[0mEINTR\u001b[0m\u001b[0;34m:\u001b[0m\u001b[0;34m\u001b[0m\u001b[0m\n",
      "\u001b[0;32m/Users/holazhai/anaconda/lib/python2.7/httplib.pyc\u001b[0m in \u001b[0;36mread\u001b[0;34m(self, amt)\u001b[0m\n\u001b[1;32m    610\u001b[0m         \u001b[0;31m# connection, and the user is reading more bytes than will be provided\u001b[0m\u001b[0;34m\u001b[0m\u001b[0;34m\u001b[0m\u001b[0m\n\u001b[1;32m    611\u001b[0m         \u001b[0;31m# (for example, reading in 1k chunks)\u001b[0m\u001b[0;34m\u001b[0m\u001b[0;34m\u001b[0m\u001b[0m\n\u001b[0;32m--> 612\u001b[0;31m         \u001b[0ms\u001b[0m \u001b[0;34m=\u001b[0m \u001b[0mself\u001b[0m\u001b[0;34m.\u001b[0m\u001b[0mfp\u001b[0m\u001b[0;34m.\u001b[0m\u001b[0mread\u001b[0m\u001b[0;34m(\u001b[0m\u001b[0mamt\u001b[0m\u001b[0;34m)\u001b[0m\u001b[0;34m\u001b[0m\u001b[0m\n\u001b[0m\u001b[1;32m    613\u001b[0m         \u001b[0;32mif\u001b[0m \u001b[0;32mnot\u001b[0m \u001b[0ms\u001b[0m \u001b[0;32mand\u001b[0m \u001b[0mamt\u001b[0m\u001b[0;34m:\u001b[0m\u001b[0;34m\u001b[0m\u001b[0m\n\u001b[1;32m    614\u001b[0m             \u001b[0;31m# Ideally, we would raise IncompleteRead if the content-length\u001b[0m\u001b[0;34m\u001b[0m\u001b[0;34m\u001b[0m\u001b[0m\n",
      "\u001b[0;32m/Users/holazhai/anaconda/lib/python2.7/socket.pyc\u001b[0m in \u001b[0;36mread\u001b[0;34m(self, size)\u001b[0m\n\u001b[1;32m    382\u001b[0m                 \u001b[0;31m# fragmentation issues on many platforms.\u001b[0m\u001b[0;34m\u001b[0m\u001b[0;34m\u001b[0m\u001b[0m\n\u001b[1;32m    383\u001b[0m                 \u001b[0;32mtry\u001b[0m\u001b[0;34m:\u001b[0m\u001b[0;34m\u001b[0m\u001b[0m\n\u001b[0;32m--> 384\u001b[0;31m                     \u001b[0mdata\u001b[0m \u001b[0;34m=\u001b[0m \u001b[0mself\u001b[0m\u001b[0;34m.\u001b[0m\u001b[0m_sock\u001b[0m\u001b[0;34m.\u001b[0m\u001b[0mrecv\u001b[0m\u001b[0;34m(\u001b[0m\u001b[0mleft\u001b[0m\u001b[0;34m)\u001b[0m\u001b[0;34m\u001b[0m\u001b[0m\n\u001b[0m\u001b[1;32m    385\u001b[0m                 \u001b[0;32mexcept\u001b[0m \u001b[0merror\u001b[0m\u001b[0;34m,\u001b[0m \u001b[0me\u001b[0m\u001b[0;34m:\u001b[0m\u001b[0;34m\u001b[0m\u001b[0m\n\u001b[1;32m    386\u001b[0m                     \u001b[0;32mif\u001b[0m \u001b[0me\u001b[0m\u001b[0;34m.\u001b[0m\u001b[0margs\u001b[0m\u001b[0;34m[\u001b[0m\u001b[0;36m0\u001b[0m\u001b[0;34m]\u001b[0m \u001b[0;34m==\u001b[0m \u001b[0mEINTR\u001b[0m\u001b[0;34m:\u001b[0m\u001b[0;34m\u001b[0m\u001b[0m\n",
      "\u001b[0;32m/Users/holazhai/anaconda/lib/python2.7/ssl.pyc\u001b[0m in \u001b[0;36mrecv\u001b[0;34m(self, buflen, flags)\u001b[0m\n\u001b[1;32m    754\u001b[0m                     \u001b[0;34m\"non-zero flags not allowed in calls to recv() on %s\"\u001b[0m \u001b[0;34m%\u001b[0m\u001b[0;34m\u001b[0m\u001b[0m\n\u001b[1;32m    755\u001b[0m                     self.__class__)\n\u001b[0;32m--> 756\u001b[0;31m             \u001b[0;32mreturn\u001b[0m \u001b[0mself\u001b[0m\u001b[0;34m.\u001b[0m\u001b[0mread\u001b[0m\u001b[0;34m(\u001b[0m\u001b[0mbuflen\u001b[0m\u001b[0;34m)\u001b[0m\u001b[0;34m\u001b[0m\u001b[0m\n\u001b[0m\u001b[1;32m    757\u001b[0m         \u001b[0;32melse\u001b[0m\u001b[0;34m:\u001b[0m\u001b[0;34m\u001b[0m\u001b[0m\n\u001b[1;32m    758\u001b[0m             \u001b[0;32mreturn\u001b[0m \u001b[0mself\u001b[0m\u001b[0;34m.\u001b[0m\u001b[0m_sock\u001b[0m\u001b[0;34m.\u001b[0m\u001b[0mrecv\u001b[0m\u001b[0;34m(\u001b[0m\u001b[0mbuflen\u001b[0m\u001b[0;34m,\u001b[0m \u001b[0mflags\u001b[0m\u001b[0;34m)\u001b[0m\u001b[0;34m\u001b[0m\u001b[0m\n",
      "\u001b[0;32m/Users/holazhai/anaconda/lib/python2.7/ssl.pyc\u001b[0m in \u001b[0;36mread\u001b[0;34m(self, len, buffer)\u001b[0m\n\u001b[1;32m    641\u001b[0m                 \u001b[0mv\u001b[0m \u001b[0;34m=\u001b[0m \u001b[0mself\u001b[0m\u001b[0;34m.\u001b[0m\u001b[0m_sslobj\u001b[0m\u001b[0;34m.\u001b[0m\u001b[0mread\u001b[0m\u001b[0;34m(\u001b[0m\u001b[0mlen\u001b[0m\u001b[0;34m,\u001b[0m \u001b[0mbuffer\u001b[0m\u001b[0;34m)\u001b[0m\u001b[0;34m\u001b[0m\u001b[0m\n\u001b[1;32m    642\u001b[0m             \u001b[0;32melse\u001b[0m\u001b[0;34m:\u001b[0m\u001b[0;34m\u001b[0m\u001b[0m\n\u001b[0;32m--> 643\u001b[0;31m                 \u001b[0mv\u001b[0m \u001b[0;34m=\u001b[0m \u001b[0mself\u001b[0m\u001b[0;34m.\u001b[0m\u001b[0m_sslobj\u001b[0m\u001b[0;34m.\u001b[0m\u001b[0mread\u001b[0m\u001b[0;34m(\u001b[0m\u001b[0mlen\u001b[0m\u001b[0;34m)\u001b[0m\u001b[0;34m\u001b[0m\u001b[0m\n\u001b[0m\u001b[1;32m    644\u001b[0m             \u001b[0;32mreturn\u001b[0m \u001b[0mv\u001b[0m\u001b[0;34m\u001b[0m\u001b[0m\n\u001b[1;32m    645\u001b[0m         \u001b[0;32mexcept\u001b[0m \u001b[0mSSLError\u001b[0m \u001b[0;32mas\u001b[0m \u001b[0mx\u001b[0m\u001b[0;34m:\u001b[0m\u001b[0;34m\u001b[0m\u001b[0m\n",
      "\u001b[0;31mKeyboardInterrupt\u001b[0m: "
     ]
    }
   ],
   "source": [
    "vPorn = '/Users/holazhai/Downloads/NDPI/FramevPorn2/'\n",
    "vNonPorn = '/Users/holazhai/Downloads/NDPI/FramevNonPorn/'\n",
    "\n",
    "img_width = 224\n",
    "img_height = 224\n",
    "batch_size = 32\n",
    "if K.image_dim_ordering() == 'th':\n",
    "    img_size = (3, img_width, img_height)\n",
    "else:\n",
    "    img_size = (img_width, img_height, 3)\n",
    "mosaic = Input(batch_shape=(None,) + img_size)\n",
    "model = vgg16.VGG16(input_tensor=mosaic,weights='imagenet', include_top=False)\n",
    "model.trainable=False\n",
    "\n",
    "for l in model.layers:\n",
    "    l.trainable=False\n",
    "#model.summary()"
   ]
  },
  {
   "cell_type": "code",
   "execution_count": 4,
   "metadata": {
    "collapsed": true
   },
   "outputs": [],
   "source": [
    "def preprocess_image(image_path):\n",
    "    try:\n",
    "        img = load_img(image_path, target_size=(img_width, img_height))\n",
    "    except:\n",
    "        print 'error'\n",
    "        return 'error'\n",
    "    img = img_to_array(img)\n",
    "    img = np.expand_dims(img, axis=0)\n",
    "    img = vgg16.preprocess_input(img)\n",
    "    return img\n",
    "\n",
    "# util function to convert a tensor into a valid image\n",
    "def deprocess_image(x):\n",
    "    if K.image_dim_ordering() == 'th':\n",
    "        x = x.reshape((3, img_width, img_height))\n",
    "        x = x.transpose((1, 2, 0))\n",
    "    else:\n",
    "        x = x.reshape((img_width, img_height, 3))\n",
    "    # Remove zero-center by mean pixel\n",
    "    x[:, :, 0] += 103.939\n",
    "    x[:, :, 1] += 116.779\n",
    "    x[:, :, 2] += 123.68\n",
    "    # 'BGR'->'RGB'\n",
    "    x = x[:, :, ::-1]\n",
    "    x = np.clip(x, 0, 255).astype('uint8')\n",
    "    return x"
   ]
  },
  {
   "cell_type": "code",
   "execution_count": 5,
   "metadata": {
    "collapsed": false
   },
   "outputs": [],
   "source": [
    "def preprocess_data(path, labs):\n",
    "    data = []\n",
    "    label = []\n",
    "    filelist = os.listdir(path)\n",
    "    for f in filelist:\n",
    "        preimage = preprocess_image(path + f)\n",
    "        if preimage <> 'error':\n",
    "            #print type(preimage)\n",
    "            data.extend(preimage)\n",
    "            label.extend([labs])\n",
    "    return data, label"
   ]
  },
  {
   "cell_type": "code",
   "execution_count": 6,
   "metadata": {
    "collapsed": false
   },
   "outputs": [
    {
     "name": "stderr",
     "output_type": "stream",
     "text": [
      "/Users/holazhai/anaconda/lib/python2.7/site-packages/ipykernel/__main__.py:7: FutureWarning: elementwise comparison failed; returning scalar instead, but in the future will perform elementwise comparison\n"
     ]
    },
    {
     "name": "stdout",
     "output_type": "stream",
     "text": [
      "error\n"
     ]
    }
   ],
   "source": [
    "datavPorn, labelvPorn = preprocess_data(vPorn,1)\n",
    "datavNonPorn, labelvNonPorn = preprocess_data(vNonPorn,0)\n",
    "\n",
    "data = datavPorn\n",
    "data.extend(datavNonPorn)\n",
    "\n",
    "label = labelvPorn\n",
    "label.extend(labelvNonPorn)\n",
    "\n",
    "data = np.array(data)\n",
    "#测试\n",
    "#data2 = data[:10,:,:,:]"
   ]
  },
  {
   "cell_type": "code",
   "execution_count": 7,
   "metadata": {
    "collapsed": false
   },
   "outputs": [
    {
     "data": {
      "text/plain": [
       "(4300, 224, 224, 3)"
      ]
     },
     "execution_count": 7,
     "metadata": {},
     "output_type": "execute_result"
    }
   ],
   "source": [
    "data.shape"
   ]
  },
  {
   "cell_type": "code",
   "execution_count": 8,
   "metadata": {
    "collapsed": true
   },
   "outputs": [],
   "source": [
    "final_model = Sequential()\n",
    "final_model.add(model)\n",
    "final_model.add(Flatten(name='flatten'))\n",
    "final_model.add(Dense(2048, activation='relu', name='fc1'))\n",
    "final_model.add(Dense(1024, activation='relu', name='fc2'))\n",
    "final_model.add(Dense(1, activation='sigmoid', name='predictions'))\n",
    "\n",
    "final_model.compile(optimizer='Adadelta', loss='binary_crossentropy', metrics=['accuracy'])\n",
    "final_model.layers[0].trainable=False"
   ]
  },
  {
   "cell_type": "code",
   "execution_count": 9,
   "metadata": {
    "collapsed": false
   },
   "outputs": [
    {
     "data": {
      "text/plain": [
       "array([[ 0.42947057,  0.11727387,  0.03401296,  0.35422093, -0.0865837 ,\n",
       "         0.22968295,  0.06683242,  0.04133838,  0.13026784,  0.03291035,\n",
       "         0.09615457, -0.09222532, -0.15587331,  0.0522968 , -0.08324417,\n",
       "         0.15728769,  0.0291196 ,  0.05094835,  0.19055748, -0.04372229,\n",
       "         0.36180311,  0.23902874,  0.16667192, -0.18046746,  0.04404821,\n",
       "         0.09592837, -0.04381131, -0.18848351, -0.04399502, -0.18985446,\n",
       "        -0.23386982,  0.12836744, -0.11059975,  0.00571336, -0.24479656,\n",
       "        -0.30530283,  0.060938  , -0.32816252,  0.1711953 ,  0.10265407,\n",
       "        -0.11063665,  0.33012986, -0.05869728,  0.18478717,  0.01050853,\n",
       "         0.10668027, -0.13086924, -0.36283946,  0.06440807,  0.09335972,\n",
       "         0.00401619,  0.37814805,  0.05268804, -0.27078936,  0.11060741,\n",
       "        -0.11819526,  0.04298935,  0.35323623, -0.28468162, -0.20289008,\n",
       "        -0.284944  , -0.13224158, -0.05334752,  0.00757738],\n",
       "       [ 0.55037946,  0.02087744,  0.09883115,  0.43703237, -0.10985146,\n",
       "        -0.19237703,  0.09789737,  0.07935189, -0.27517739, -0.14232883,\n",
       "         0.17323188,  0.04103169,  0.29249442,  0.01629656, -0.12607214,\n",
       "        -0.15555367, -0.05317234,  0.18129717, -0.2077193 , -0.13894619,\n",
       "         0.25539106,  0.3563149 ,  0.00118498, -0.48702785,  0.11533792,\n",
       "         0.1163794 , -0.07708844,  0.10368702, -0.07185701, -0.00388477,\n",
       "        -0.26350829,  0.12447353, -0.0746256 , -0.15612163, -0.29000348,\n",
       "        -0.43226039,  0.05063162, -0.43103257,  0.29444188, -0.10993682,\n",
       "         0.06623434,  0.18029599, -0.07049958,  0.30771789,  0.09669701,\n",
       "         0.09883999, -0.06726889, -0.4840571 ,  0.16756544, -0.05524461,\n",
       "         0.12566034,  0.50040096, -0.07442727, -0.3387222 , -0.02613011,\n",
       "        -0.07352738, -0.11533686,  0.17063108, -0.36752653,  0.13339569,\n",
       "        -0.36689544, -0.08482055, -0.05113892,  0.03749434],\n",
       "       [ 0.4800154 , -0.17269668,  0.03755771,  0.40877539, -0.0820337 ,\n",
       "        -0.04828076,  0.06561838,  0.11799728,  0.16427684, -0.15978716,\n",
       "         0.14613639, -0.09036129, -0.21903016, -0.12617548, -0.09937377,\n",
       "         0.16049297,  0.18870655,  0.09347539,  0.07497339,  0.12632439,\n",
       "         0.23849919,  0.35597178, -0.12046139, -0.30833825, -0.02083396,\n",
       "        -0.15872632, -0.07149437, -0.05043453, -0.03383944,  0.21956988,\n",
       "        -0.29206657,  0.14893703,  0.01326195, -0.00503388, -0.27007344,\n",
       "        -0.40322903, -0.17164022, -0.36889768,  0.13081503, -0.0358882 ,\n",
       "        -0.10626303,  0.29136992, -0.06310713,  0.28635997, -0.04254856,\n",
       "         0.10345241, -0.02848322, -0.45139903,  0.19618554, -0.08979315,\n",
       "        -0.15111087,  0.46370047,  0.12699455, -0.27397472,  0.04517473,\n",
       "        -0.23849334,  0.00912306,  0.29967809, -0.31998897,  0.08725975,\n",
       "        -0.33848372, -0.12713556, -0.05029916,  0.03489657]], dtype=float32)"
      ]
     },
     "execution_count": 9,
     "metadata": {},
     "output_type": "execute_result"
    }
   ],
   "source": [
    "#model.get_weights()[0][0][0]"
   ]
  },
  {
   "cell_type": "code",
   "execution_count": 10,
   "metadata": {
    "collapsed": false
   },
   "outputs": [
    {
     "name": "stdout",
     "output_type": "stream",
     "text": [
      "Train on 2150 samples, validate on 2150 samples\n",
      "Epoch 1/1\n",
      "2150/2150 [==============================] - 4321s - loss: 2.5090 - acc: 0.8414 - val_loss: 15.9421 - val_acc: 0.0000e+00\n"
     ]
    },
    {
     "data": {
      "text/plain": [
       "<keras.callbacks.History at 0x28865fe90>"
      ]
     },
     "execution_count": 10,
     "metadata": {},
     "output_type": "execute_result"
    }
   ],
   "source": [
    "final_model.fit(data, label, batch_size=16, nb_epoch=1,shuffle=True,verbose=1,validation_split=0.5)"
   ]
  },
  {
   "cell_type": "code",
   "execution_count": 11,
   "metadata": {
    "collapsed": false
   },
   "outputs": [
    {
     "data": {
      "text/plain": [
       "array([[ 0.42947057,  0.11727387,  0.03401296,  0.35422093, -0.0865837 ,\n",
       "         0.22968295,  0.06683242,  0.04133838,  0.13026784,  0.03291035,\n",
       "         0.09615457, -0.09222532, -0.15587331,  0.0522968 , -0.08324417,\n",
       "         0.15728769,  0.0291196 ,  0.05094835,  0.19055748, -0.04372229,\n",
       "         0.36180311,  0.23902874,  0.16667192, -0.18046746,  0.04404821,\n",
       "         0.09592837, -0.04381131, -0.18848351, -0.04399502, -0.18985446,\n",
       "        -0.23386982,  0.12836744, -0.11059975,  0.00571336, -0.24479656,\n",
       "        -0.30530283,  0.060938  , -0.32816252,  0.1711953 ,  0.10265407,\n",
       "        -0.11063665,  0.33012986, -0.05869728,  0.18478717,  0.01050853,\n",
       "         0.10668027, -0.13086924, -0.36283946,  0.06440807,  0.09335972,\n",
       "         0.00401619,  0.37814805,  0.05268804, -0.27078936,  0.11060741,\n",
       "        -0.11819526,  0.04298935,  0.35323623, -0.28468162, -0.20289008,\n",
       "        -0.284944  , -0.13224158, -0.05334752,  0.00757738],\n",
       "       [ 0.55037946,  0.02087744,  0.09883115,  0.43703237, -0.10985146,\n",
       "        -0.19237703,  0.09789737,  0.07935189, -0.27517739, -0.14232883,\n",
       "         0.17323188,  0.04103169,  0.29249442,  0.01629656, -0.12607214,\n",
       "        -0.15555367, -0.05317234,  0.18129717, -0.2077193 , -0.13894619,\n",
       "         0.25539106,  0.3563149 ,  0.00118498, -0.48702785,  0.11533792,\n",
       "         0.1163794 , -0.07708844,  0.10368702, -0.07185701, -0.00388477,\n",
       "        -0.26350829,  0.12447353, -0.0746256 , -0.15612163, -0.29000348,\n",
       "        -0.43226039,  0.05063162, -0.43103257,  0.29444188, -0.10993682,\n",
       "         0.06623434,  0.18029599, -0.07049958,  0.30771789,  0.09669701,\n",
       "         0.09883999, -0.06726889, -0.4840571 ,  0.16756544, -0.05524461,\n",
       "         0.12566034,  0.50040096, -0.07442727, -0.3387222 , -0.02613011,\n",
       "        -0.07352738, -0.11533686,  0.17063108, -0.36752653,  0.13339569,\n",
       "        -0.36689544, -0.08482055, -0.05113892,  0.03749434],\n",
       "       [ 0.4800154 , -0.17269668,  0.03755771,  0.40877539, -0.0820337 ,\n",
       "        -0.04828076,  0.06561838,  0.11799728,  0.16427684, -0.15978716,\n",
       "         0.14613639, -0.09036129, -0.21903016, -0.12617548, -0.09937377,\n",
       "         0.16049297,  0.18870655,  0.09347539,  0.07497339,  0.12632439,\n",
       "         0.23849919,  0.35597178, -0.12046139, -0.30833825, -0.02083396,\n",
       "        -0.15872632, -0.07149437, -0.05043453, -0.03383944,  0.21956988,\n",
       "        -0.29206657,  0.14893703,  0.01326195, -0.00503388, -0.27007344,\n",
       "        -0.40322903, -0.17164022, -0.36889768,  0.13081503, -0.0358882 ,\n",
       "        -0.10626303,  0.29136992, -0.06310713,  0.28635997, -0.04254856,\n",
       "         0.10345241, -0.02848322, -0.45139903,  0.19618554, -0.08979315,\n",
       "        -0.15111087,  0.46370047,  0.12699455, -0.27397472,  0.04517473,\n",
       "        -0.23849334,  0.00912306,  0.29967809, -0.31998897,  0.08725975,\n",
       "        -0.33848372, -0.12713556, -0.05029916,  0.03489657]], dtype=float32)"
      ]
     },
     "execution_count": 11,
     "metadata": {},
     "output_type": "execute_result"
    }
   ],
   "source": [
    "final_model.save_weights('/mnt2/zhaihuixin/src/jianhuang.h5')\n",
    "\n",
    "print ('Try to Predict input images:')\n",
    "print ('=====================================')\n",
    "\n",
    "re_img = preprocess_image('/mnt2/zhaihuixin/6.jpg')  # this is a jpg image (size (1, 64, 64, 3))\n",
    "print model.predict(re_img)\n",
    "print model.predict_proba(re_img)\n",
    "\n",
    "path = '/mnt2/zhaihuixin/gol075/'\n",
    "files = os.listdir(path) \n",
    "for f in files:\n",
    "    x_img = preprocess_image(path+f)\n",
    "    print (f + ' probability is: %3.3f%% ' %(100*model.predict_proba(x_img)))"
   ]
  },
  {
   "cell_type": "code",
   "execution_count": null,
   "metadata": {
    "collapsed": true
   },
   "outputs": [],
   "source": []
  }
 ],
 "metadata": {
  "anaconda-cloud": {},
  "kernelspec": {
   "display_name": "Python [Root]",
   "language": "python",
   "name": "Python [Root]"
  },
  "language_info": {
   "codemirror_mode": {
    "name": "ipython",
    "version": 2
   },
   "file_extension": ".py",
   "mimetype": "text/x-python",
   "name": "python",
   "nbconvert_exporter": "python",
   "pygments_lexer": "ipython2",
   "version": "2.7.12"
  }
 },
 "nbformat": 4,
 "nbformat_minor": 0
}
